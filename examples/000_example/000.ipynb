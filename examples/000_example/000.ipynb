{
 "cells": [
  {
   "cell_type": "markdown",
   "id": "b519119d",
   "metadata": {},
   "source": [
    "### Introduction\n",
    "\n",
    "We are going to present the `anytree` package that we use for the `tree_maker`.\n",
    "Please find in the 001_example a proper `tree_maker` example."
   ]
  },
  {
   "cell_type": "code",
   "execution_count": 1,
   "id": "1b98f403",
   "metadata": {},
   "outputs": [],
   "source": [
    "import anytree"
   ]
  },
  {
   "cell_type": "code",
   "execution_count": 2,
   "id": "06e59c87",
   "metadata": {},
   "outputs": [
    {
     "name": "stdout",
     "output_type": "stream",
     "text": [
      "root\n",
      "├── 0\n",
      "│   ├── 00\n",
      "│   │   ├── 000\n",
      "│   │   ╰── 001\n",
      "│   ├── 01\n",
      "│   │   ├── 010\n",
      "│   │   ╰── 011\n",
      "│   ╰── 02\n",
      "│       ├── 020\n",
      "│       ╰── 021\n",
      "╰── 1\n",
      "    ├── 10\n",
      "    │   ├── 100\n",
      "    │   ╰── 101\n",
      "    ├── 11\n",
      "    │   ├── 110\n",
      "    │   ╰── 111\n",
      "    ╰── 12\n",
      "        ├── 120\n",
      "        ╰── 121\n"
     ]
    }
   ],
   "source": [
    "from anytree import AnyNode, RenderTree\n",
    "root = AnyNode(name=\"root\")\n",
    "#first generation\n",
    "[AnyNode(name=f\"{ii}\", parent=root) for ii in range(2)]\n",
    "for aa, bb in enumerate(root.children):\n",
    "    #second generation\n",
    "    [AnyNode(name=f\"{bb.name}{ii}\", parent=bb) for ii in range(3)]\n",
    "    for aa, bb in enumerate(bb.children):\n",
    "        #third generation\n",
    "        [AnyNode(name=f\"{bb.name}{ii}\", parent=bb) for ii in range(2)]\n",
    "        #...\n",
    "\n",
    "#print(RenderTree(root))\n",
    "for pre, _, node in RenderTree(root, style=anytree.render.ContRoundStyle()):\n",
    "    print(f\"{pre}{node.name}\")"
   ]
  },
  {
   "cell_type": "code",
   "execution_count": 3,
   "id": "7427767a",
   "metadata": {},
   "outputs": [],
   "source": [
    "from anytree.exporter import DotExporter\n",
    "DotExporter(root).to_picture('tree.png')"
   ]
  },
  {
   "cell_type": "code",
   "execution_count": 4,
   "id": "70a8d23e",
   "metadata": {},
   "outputs": [
    {
     "data": {
      "text/plain": [
       "['0', '1']"
      ]
     },
     "execution_count": 4,
     "metadata": {},
     "output_type": "execute_result"
    }
   ],
   "source": [
    "# Concept of children of a node\n",
    "[ii.name for ii in  root.children]"
   ]
  },
  {
   "cell_type": "code",
   "execution_count": 5,
   "id": "426c33af",
   "metadata": {},
   "outputs": [
    {
     "data": {
      "text/plain": [
       "'10'"
      ]
     },
     "execution_count": 5,
     "metadata": {},
     "output_type": "execute_result"
    }
   ],
   "source": [
    "# Concept of parent of a node\n",
    "# There is a single parent. Is it a limitation? \n",
    "# Tree is a \"limited\" Directed Acycling Graph Directed acyclic graph \n",
    "(https://en.wikipedia.org/wiki/Directed_acyclic_graph)\n",
    "my_node=root.children[1].children[0]\n",
    "my_node.name"
   ]
  },
  {
   "cell_type": "code",
   "execution_count": 8,
   "id": "0a73ff5b",
   "metadata": {},
   "outputs": [
    {
     "data": {
      "text/plain": [
       "'1'"
      ]
     },
     "execution_count": 8,
     "metadata": {},
     "output_type": "execute_result"
    }
   ],
   "source": [
    "my_node.parent.name"
   ]
  },
  {
   "cell_type": "code",
   "execution_count": 9,
   "id": "69953297",
   "metadata": {},
   "outputs": [
    {
     "data": {
      "text/plain": [
       "['root', '1']"
      ]
     },
     "execution_count": 9,
     "metadata": {},
     "output_type": "execute_result"
    }
   ],
   "source": [
    "# Concept of ancestors\n",
    "[ii.name for ii in  my_node.ancestors]"
   ]
  },
  {
   "cell_type": "code",
   "execution_count": 10,
   "id": "18c19c49",
   "metadata": {},
   "outputs": [
    {
     "data": {
      "text/plain": [
       "['100', '101']"
      ]
     },
     "execution_count": 10,
     "metadata": {},
     "output_type": "execute_result"
    }
   ],
   "source": [
    "# Concept of descendants\n",
    "[ii.name for ii in  my_node.descendants]"
   ]
  },
  {
   "cell_type": "code",
   "execution_count": 11,
   "id": "7e227223",
   "metadata": {},
   "outputs": [
    {
     "data": {
      "text/plain": [
       "['11', '12']"
      ]
     },
     "execution_count": 11,
     "metadata": {},
     "output_type": "execute_result"
    }
   ],
   "source": [
    "# Concept of sibling\n",
    "[ii.name for ii in  my_node.siblings]"
   ]
  },
  {
   "cell_type": "code",
   "execution_count": 12,
   "id": "32f76507",
   "metadata": {},
   "outputs": [
    {
     "data": {
      "text/plain": [
       "['root', '1', '10']"
      ]
     },
     "execution_count": 12,
     "metadata": {},
     "output_type": "execute_result"
    }
   ],
   "source": [
    "# Concept of path\n",
    "[ii.name for ii in  my_node.path]"
   ]
  },
  {
   "cell_type": "code",
   "execution_count": 13,
   "id": "a60f2801",
   "metadata": {},
   "outputs": [
    {
     "data": {
      "text/plain": [
       "'root'"
      ]
     },
     "execution_count": 13,
     "metadata": {},
     "output_type": "execute_result"
    }
   ],
   "source": [
    "# We can link attribute to a node\n",
    "my_node.root.name"
   ]
  },
  {
   "cell_type": "code",
   "execution_count": 14,
   "id": "ed405be0",
   "metadata": {},
   "outputs": [
    {
     "data": {
      "text/plain": [
       "3"
      ]
     },
     "execution_count": 14,
     "metadata": {},
     "output_type": "execute_result"
    }
   ],
   "source": [
    "# Concept of height of a node\n",
    "root.height"
   ]
  },
  {
   "cell_type": "code",
   "execution_count": 15,
   "id": "d3fd41c9",
   "metadata": {},
   "outputs": [
    {
     "data": {
      "text/plain": [
       "2"
      ]
     },
     "execution_count": 15,
     "metadata": {},
     "output_type": "execute_result"
    }
   ],
   "source": [
    "# Concept of depth of a node\n",
    "# This is important to define a \"generation\"\n",
    "my_node.depth"
   ]
  },
  {
   "cell_type": "code",
   "execution_count": 16,
   "id": "f4a88ca1",
   "metadata": {},
   "outputs": [
    {
     "data": {
      "text/plain": [
       "['000',\n",
       " '001',\n",
       " '010',\n",
       " '011',\n",
       " '020',\n",
       " '021',\n",
       " '100',\n",
       " '101',\n",
       " '110',\n",
       " '111',\n",
       " '120',\n",
       " '121']"
      ]
     },
     "execution_count": 16,
     "metadata": {},
     "output_type": "execute_result"
    }
   ],
   "source": [
    "# Concept of leaves of a node\n",
    "[ii.name for ii in  root.leaves]"
   ]
  },
  {
   "cell_type": "code",
   "execution_count": 17,
   "id": "bd4c0a8d",
   "metadata": {},
   "outputs": [
    {
     "data": {
      "text/plain": [
       "['00', '01', '02', '10', '11', '12']"
      ]
     },
     "execution_count": 17,
     "metadata": {},
     "output_type": "execute_result"
    }
   ],
   "source": [
    "# Search in node and\n",
    "# select all nodes of a given node depth\n",
    "# VERY IMPORTANT\n",
    "[ii.name for ii in anytree.search.findall(root, filter_=lambda node: node.depth==2)]"
   ]
  },
  {
   "cell_type": "code",
   "execution_count": 18,
   "id": "2b549df2",
   "metadata": {},
   "outputs": [
    {
     "data": {
      "text/plain": [
       "['0', '00', '000']"
      ]
     },
     "execution_count": 18,
     "metadata": {},
     "output_type": "execute_result"
    }
   ],
   "source": [
    "# Walk in a tree\n",
    "w = anytree.walker.Walker()\n",
    "[ii.name for ii in w.walk(root, root.leaves[0])[-1]]"
   ]
  },
  {
   "cell_type": "code",
   "execution_count": 19,
   "id": "904d1814",
   "metadata": {},
   "outputs": [],
   "source": [
    "# Save the tree in a yaml\n",
    "import yaml\n",
    "from anytree import AnyNode\n",
    "from anytree.exporter import DictExporter\n",
    "from anytree.importer import DictImporter\n",
    "\n",
    "dct = DictExporter().export(root)\n",
    "\n",
    "with open(\"tree.yaml\", \"w\") as file:  \n",
    "    yaml.dump(dct, file)"
   ]
  },
  {
   "cell_type": "code",
   "execution_count": 20,
   "id": "66ed36f3",
   "metadata": {},
   "outputs": [
    {
     "name": "stdout",
     "output_type": "stream",
     "text": [
      "root\n",
      "├── 0\n",
      "│   ├── 00\n",
      "│   │   ├── 000\n",
      "│   │   ╰── 001\n",
      "│   ├── 01\n",
      "│   │   ├── 010\n",
      "│   │   ╰── 011\n",
      "│   ╰── 02\n",
      "│       ├── 020\n",
      "│       ╰── 021\n",
      "╰── 1\n",
      "    ├── 10\n",
      "    │   ├── 100\n",
      "    │   ╰── 101\n",
      "    ├── 11\n",
      "    │   ├── 110\n",
      "    │   ╰── 111\n",
      "    ╰── 12\n",
      "        ├── 120\n",
      "        ╰── 121\n"
     ]
    }
   ],
   "source": [
    "# Load the tree from a  yaml\n",
    "with open(\"tree.yaml\", \"r\") as file:\n",
    "    root = DictImporter().import_(yaml.load(file, Loader=yaml.FullLoader))\n",
    "root = DictImporter().import_(dct)\n",
    "for pre, _, node in RenderTree(root, style=anytree.render.ContRoundStyle()):\n",
    "    print(f\"{pre}{node.name}\")"
   ]
  },
  {
   "cell_type": "code",
   "execution_count": 21,
   "id": "67ba7f6e",
   "metadata": {},
   "outputs": [
    {
     "name": "stdout",
     "output_type": "stream",
     "text": [
      "122 ms ± 34.2 ms per loop (mean ± std. dev. of 7 runs, 10 loops each)\n"
     ]
    }
   ],
   "source": [
    "%%timeit\n",
    "# performance 400x30 jobs\n",
    "from anytree import AnyNode, RenderTree\n",
    "root = AnyNode(name=\"root\")\n",
    "#first generation\n",
    "[AnyNode(name=f\"_{ii:03d}\", parent=root) for ii in range(400)]\n",
    "for aa, bb in enumerate(root.children):\n",
    "    #second generation\n",
    "    [AnyNode(name=f\"__{ii:03d}\", parent=bb) for ii in range(30)]"
   ]
  },
  {
   "cell_type": "code",
   "execution_count": 22,
   "id": "dbbea904",
   "metadata": {},
   "outputs": [
    {
     "name": "stdout",
     "output_type": "stream",
     "text": [
      "88.5 µs ± 4.5 µs per loop (mean ± std. dev. of 7 runs, 10000 loops each)\n"
     ]
    }
   ],
   "source": [
    "%%timeit\n",
    "[ii.name for ii in anytree.search.findall(root, filter_=lambda node: node.depth==2)]"
   ]
  },
  {
   "cell_type": "markdown",
   "id": "c05cbb79",
   "metadata": {},
   "source": [
    "We can define a generic class (`JobNode`) that inherits from `anytree` object."
   ]
  },
  {
   "cell_type": "code",
   "execution_count": 23,
   "id": "0106edb8",
   "metadata": {},
   "outputs": [],
   "source": [
    "from anytree import NodeMixin, RenderTree\n",
    "class JobNodeBase(object):  # Just an example of a base class\n",
    "    name = 'my_name'\n",
    "    path = 'my_path'\n",
    "    #def __repr__(self):\n",
    "    #        return self.name    \n",
    "    def __str__(self):\n",
    "            return self.name\n",
    "    def run(self):\n",
    "        pass\n",
    "    def clone(self):\n",
    "        pass\n",
    "    def mutate(self):\n",
    "        pass\n",
    "\n",
    "class JobNode(JobNodeBase, NodeMixin):  # Add Node feature\n",
    "    def __init__(self, name, length, width, parent=None, children=None):\n",
    "        super(JobNodeBase, self).__init__()\n",
    "        self.name = name\n",
    "        self.length = length\n",
    "        self.width = width\n",
    "        self.parent = parent\n",
    "        if children:  # set children only if given\n",
    "            self.children = children\n"
   ]
  },
  {
   "cell_type": "code",
   "execution_count": 24,
   "id": "60beb111",
   "metadata": {},
   "outputs": [
    {
     "name": "stdout",
     "output_type": "stream",
     "text": [
      "root\n",
      "├── 0\n",
      "│   ├── 00\n",
      "│   ├── 01\n",
      "│   ╰── 02\n",
      "╰── 1\n",
      "    ├── 10\n",
      "    ├── 11\n",
      "    ╰── 12\n"
     ]
    }
   ],
   "source": [
    "root = JobNode('root', length=1, width=2, parent=None)\n",
    "#first generation\n",
    "[JobNode(name=f\"{ii}\", parent=root, length=1, width=2) for ii in range(2)]\n",
    "for aa, bb in enumerate(root.children):\n",
    "    #second generation\n",
    "    [JobNode(name=f\"{bb.name}{ii}\", parent=bb, length=1, width=2) for ii in range(3)]\n",
    "\n",
    "for pre, _, node in RenderTree(root, style=anytree.render.ContRoundStyle()):\n",
    "    print(f\"{pre}{node.name}\")\n"
   ]
  },
  {
   "cell_type": "code",
   "execution_count": null,
   "id": "d33be4fd",
   "metadata": {},
   "outputs": [],
   "source": []
  }
 ],
 "metadata": {
  "kernelspec": {
   "display_name": "Python 3",
   "language": "python",
   "name": "python3"
  },
  "language_info": {
   "codemirror_mode": {
    "name": "ipython",
    "version": 3
   },
   "file_extension": ".py",
   "mimetype": "text/x-python",
   "name": "python",
   "nbconvert_exporter": "python",
   "pygments_lexer": "ipython3",
   "version": "3.7.10"
  }
 },
 "nbformat": 4,
 "nbformat_minor": 5
}
