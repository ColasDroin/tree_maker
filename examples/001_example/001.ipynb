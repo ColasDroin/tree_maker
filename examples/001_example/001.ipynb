{
 "cells": [
  {
   "cell_type": "markdown",
   "id": "58b1fbf0",
   "metadata": {},
   "source": [
    "Let aussume that we need to make this computation\n",
    "\n",
    "$\\sqrt{|(a+b)\\times c|}$\n",
    "\n",
    "and we want to compute the standard deviation of the result assuming that a, b and c are normal distributed independent variables. Clearly the problem is quite naive but we want to address is as if we will need a cluster to solve it. \n",
    "\n",
    "We can partition the problem in a three conscutive operations\n",
    "1. A sum: $(a+b)$\n",
    "2. A multiplication of the result 1 with c: $(a+b)\\times c$\n",
    "3. A sqrt of the result of 2: $\\sqrt{|(a+b)\\times c|}$"
   ]
  },
  {
   "cell_type": "code",
   "execution_count": 1,
   "id": "06491301",
   "metadata": {},
   "outputs": [],
   "source": [
    "import sys\n",
    "sys.path.append('/home/jovyan/local_host_home/CERNBox/2021/make_tree')\n",
    "import tree_maker\n",
    "from tree_maker import NodeJob"
   ]
  },
  {
   "cell_type": "code",
   "execution_count": 2,
   "id": "37175f2d",
   "metadata": {},
   "outputs": [],
   "source": [
    "import numpy as np\n",
    "a=np.random.randn(4)\n",
    "b=np.random.randn(4)\n",
    "c=np.random.randn(2)\n",
    "\n",
    "my_list_original=[]\n",
    "for ii in c:\n",
    "    my_list_original+=list(np.sqrt(np.abs((a+b)*ii)))\n",
    "my_list_original=sorted(my_list_original)"
   ]
  },
  {
   "cell_type": "code",
   "execution_count": 3,
   "id": "e2c32c83",
   "metadata": {},
   "outputs": [],
   "source": [
    "#root\n",
    "root = NodeJob(name='root', parent=None)\n",
    "root.path = '/home/jovyan/local_host_home/CERNBox/2021/make_tree/examples/001_example'\n",
    "\n",
    "#first generation\n",
    "for node in root.leaves:\n",
    "    node.children=[NodeJob(name=f\"{child:03}\",\n",
    "                           parent=node,\n",
    "                           path = f\"{node.path}/{child:03}\",\n",
    "                           template_path = '/home/jovyan/local_host_home/CERNBox/2021/make_tree/examples/001_example/templates/sum_it',\n",
    "                           dictionary={'a':float(a[child]), 'b':float(b[child])})\n",
    "                   for child in range(len(a))]\n",
    "\n",
    "#second generation\n",
    "for node in root.leaves:\n",
    "    node.children=[NodeJob(name=f\"{child:03}\",\n",
    "                           parent=node,\n",
    "                           path = f\"{node.path}/{child:03}\",\n",
    "                           template_path = '/home/jovyan/local_host_home/CERNBox/2021/make_tree/examples/001_example/templates/multiply_it',\n",
    "                           dictionary={'c':float(c[child])})\n",
    "                   for child in range(len(c))]\n",
    "    \n",
    "#third generation\n",
    "for node in root.leaves:\n",
    "    node.children=[NodeJob(name=f\"{child:03}\",\n",
    "                           parent=node, \n",
    "                           path = f\"{node.path}/{child:03}\",\n",
    "                           template_path = '/home/jovyan/local_host_home/CERNBox/2021/make_tree/examples/001_example/templates/square_root_it',\n",
    "                           dictionary={'a':float(c[child])})\n",
    "                           for child in range(1)]"
   ]
  },
  {
   "cell_type": "code",
   "execution_count": 4,
   "id": "b6a734c5",
   "metadata": {},
   "outputs": [
    {
     "name": "stdout",
     "output_type": "stream",
     "text": [
      "root\n",
      "├── 000\n",
      "│   ├── 000\n",
      "│   │   ╰── 000\n",
      "│   ╰── 001\n",
      "│       ╰── 000\n",
      "├── 001\n",
      "│   ├── 000\n",
      "│   │   ╰── 000\n",
      "│   ╰── 001\n",
      "│       ╰── 000\n",
      "├── 002\n",
      "│   ├── 000\n",
      "│   │   ╰── 000\n",
      "│   ╰── 001\n",
      "│       ╰── 000\n",
      "╰── 003\n",
      "    ├── 000\n",
      "    │   ╰── 000\n",
      "    ╰── 001\n",
      "        ╰── 000\n"
     ]
    }
   ],
   "source": [
    "root.print_it()"
   ]
  },
  {
   "cell_type": "code",
   "execution_count": 5,
   "id": "11eff9dc",
   "metadata": {},
   "outputs": [],
   "source": [
    "# save the tree\n",
    "root.to_yaml()"
   ]
  },
  {
   "cell_type": "code",
   "execution_count": 6,
   "id": "313dd89a",
   "metadata": {},
   "outputs": [
    {
     "name": "stdout",
     "output_type": "stream",
     "text": [
      "root\n",
      "├── 000\n",
      "│   ├── 000\n",
      "│   │   ╰── 000\n",
      "│   ╰── 001\n",
      "│       ╰── 000\n",
      "├── 001\n",
      "│   ├── 000\n",
      "│   │   ╰── 000\n",
      "│   ╰── 001\n",
      "│       ╰── 000\n",
      "├── 002\n",
      "│   ├── 000\n",
      "│   │   ╰── 000\n",
      "│   ╰── 001\n",
      "│       ╰── 000\n",
      "╰── 003\n",
      "    ├── 000\n",
      "    │   ╰── 000\n",
      "    ╰── 001\n",
      "        ╰── 000\n"
     ]
    }
   ],
   "source": [
    "# Load the tree from a yaml\n",
    "root=tree_maker.tree_from_yaml('./node.yaml')\n",
    "root.print_it()"
   ]
  },
  {
   "cell_type": "code",
   "execution_count": 7,
   "id": "b1f638a4",
   "metadata": {},
   "outputs": [
    {
     "data": {
      "text/plain": [
       "{'a': 0.48617312066239876, 'b': 1.129114462645723}"
      ]
     },
     "execution_count": 7,
     "metadata": {},
     "output_type": "execute_result"
    }
   ],
   "source": [
    "root.children[0].dictionary"
   ]
  },
  {
   "cell_type": "code",
   "execution_count": 8,
   "id": "1486a8f3",
   "metadata": {},
   "outputs": [],
   "source": [
    "# STEP 1 cloning\n",
    "root.rm_children()\n",
    "[x.clone_children() for x in root.generation(0)]\n",
    "[x.clone_children() for x in root.generation(1)]\n",
    "[x.clone_children() for x in root.generation(2)];"
   ]
  },
  {
   "cell_type": "code",
   "execution_count": 9,
   "id": "28e81341",
   "metadata": {},
   "outputs": [
    {
     "name": "stdout",
     "output_type": "stream",
     "text": [
      "It is new!\n",
      "It is new!\n",
      "It is new!\n",
      "It is new!\n"
     ]
    }
   ],
   "source": [
    "def run_1(self):\n",
    "    import os\n",
    "    print('It is new!')\n",
    "    os.system(f'cd {self.path}; python run.py;')\n",
    "\n",
    "NodeJob.run_1=run_1\n",
    "\n",
    "for node in root.generation(1):\n",
    "    node.mutate()\n",
    "    node.run_1()"
   ]
  },
  {
   "cell_type": "code",
   "execution_count": 14,
   "id": "a6b3bc85",
   "metadata": {},
   "outputs": [],
   "source": [
    "for node in root.generation(2):\n",
    "    parent_output = tree_maker.from_yaml(node.parent.path+'/output.yaml')\n",
    "    node.dictionary['sum_a_b']=parent_output['result']\n",
    "    node.mutate()\n",
    "    node.run()"
   ]
  },
  {
   "cell_type": "code",
   "execution_count": 15,
   "id": "764e09cb",
   "metadata": {},
   "outputs": [],
   "source": [
    "for node in root.generation(3):\n",
    "    parent_output = tree_maker.from_yaml(node.parent.path+'/output.yaml')\n",
    "    node.dictionary['a']=parent_output['result']\n",
    "    node.mutate()\n",
    "    node.run()"
   ]
  },
  {
   "cell_type": "code",
   "execution_count": 16,
   "id": "3a298836",
   "metadata": {},
   "outputs": [],
   "source": [
    "my_list=[]\n",
    "for node in root.generation(3):\n",
    "    output = tree_maker.from_yaml(node.path+'/output.yaml')\n",
    "    my_list.append(output['result'])"
   ]
  },
  {
   "cell_type": "code",
   "execution_count": 17,
   "id": "aeb43e56",
   "metadata": {},
   "outputs": [
    {
     "data": {
      "text/plain": [
       "array([0., 0., 0., 0., 0., 0., 0., 0.])"
      ]
     },
     "execution_count": 17,
     "metadata": {},
     "output_type": "execute_result"
    }
   ],
   "source": [
    "np.array(sorted(my_list))-np.array(my_list_original)"
   ]
  },
  {
   "cell_type": "code",
   "execution_count": null,
   "id": "8d9f542e",
   "metadata": {},
   "outputs": [],
   "source": []
  }
 ],
 "metadata": {
  "kernelspec": {
   "display_name": "Python 3",
   "language": "python",
   "name": "python3"
  },
  "language_info": {
   "codemirror_mode": {
    "name": "ipython",
    "version": 3
   },
   "file_extension": ".py",
   "mimetype": "text/x-python",
   "name": "python",
   "nbconvert_exporter": "python",
   "pygments_lexer": "ipython3",
   "version": "3.7.10"
  }
 },
 "nbformat": 4,
 "nbformat_minor": 5
}
