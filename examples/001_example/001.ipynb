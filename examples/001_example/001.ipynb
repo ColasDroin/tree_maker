{
 "cells": [
  {
   "cell_type": "markdown",
   "id": "8114a275",
   "metadata": {},
   "source": [
    "Let aussume that we need to make this computation\n",
    "\n",
    "$\\sqrt{|(a+b)\\times c|}$\n",
    "\n",
    "and we want to compute the standard deviation of the result assuming that a, b and c are normal distributed independent variables. Clearly the problem is quite naive but we want to address is as if we will need a cluster to solve it. \n",
    "\n",
    "We can partition the problem in a three conscutive operations\n",
    "1. A sum: $(a+b)$\n",
    "2. A multiplication of the result 1 with c: $(a+b)\\times c$\n",
    "3. A sqrt of the result of 2: $\\sqrt{|(a+b)\\times c|}$\n",
    "\n",
    "See https://gitlab.cern.ch/abpcomputing/sandbox/tree_maker for the installation.\n",
    "\n",
    "Documentation (only started, you need to be on GPN) can be found at https://acc-py.web.cern.ch/gitlab/abpcomputing/sandbox/tree_maker/docs/master/. "
   ]
  },
  {
   "cell_type": "code",
   "execution_count": 1,
   "id": "2263dcb4",
   "metadata": {},
   "outputs": [],
   "source": [
    "import tree_maker\n",
    "from tree_maker import NodeJob"
   ]
  },
  {
   "cell_type": "code",
   "execution_count": 2,
   "id": "06366b27",
   "metadata": {},
   "outputs": [],
   "source": [
    "# Clearly for this easy task on can do all in the very same python kernel\n",
    "# BUT here we want to mimic the typical flow\n",
    "# 1. MADX for optics matching/error seeding\n",
    "# 2. Tracking for FMA and or DA studies\n",
    "# 3. simulation baby-sitting and\n",
    "# 4. postprocessing\n",
    "\n",
    "import numpy as np\n",
    "a=np.random.randn(4)\n",
    "b=np.random.randn(4)\n",
    "c=np.random.randn(2)\n",
    "\n",
    "my_list_original=[]\n",
    "for ii in c:\n",
    "    my_list_original+=list(np.sqrt(np.abs((a+b)*ii)))\n",
    "my_list_original=sorted(my_list_original)"
   ]
  },
  {
   "cell_type": "code",
   "execution_count": 3,
   "id": "b3538e96",
   "metadata": {},
   "outputs": [],
   "source": [
    "#root\n",
    "root = NodeJob(name='root', parent=None)\n",
    "# to be modified accordingly\n",
    "root.path = '/home/jovyan/local_host_home/CERNBox/2021/tree_maker/examples/001_example/study_000'\n",
    "root.dictionary = {'log_file': f\"{root.path}/log.yaml\"}\n",
    "root.clean_log()"
   ]
  },
  {
   "cell_type": "code",
   "execution_count": 4,
   "id": "6f68ad18",
   "metadata": {},
   "outputs": [
    {
     "name": "stdout",
     "output_type": "stream",
     "text": [
      "root\n",
      "├── 000\n",
      "├── 001\n",
      "├── 002\n",
      "╰── 003\n"
     ]
    }
   ],
   "source": [
    "#first generation\n",
    "for node in root.leaves:\n",
    "    node.children=[NodeJob(name=f\"{child:03}\",\n",
    "                           parent=node,\n",
    "                           path = f\"{node.path}/{child:03}\",\n",
    "                           template_path = root.path+'/../templates/sum_it',\n",
    "                           submit_command = f'python run.py',\n",
    "                           dictionary={'a':float(a[child]), \n",
    "                                       'b':float(b[child]),\n",
    "                                       'log_file': f\"{node.path}/{child:03}/log.yaml\"\n",
    "                                      })\n",
    "                   for child in range(len(a))]\n",
    "\n",
    "# To combine different lists one can use the product or the zip functions    \n",
    "#import itertools\n",
    "#[[i, j, z] for i, j, z in itertools.product(['a','b'],['c','d'],[1,2,3])]\n",
    "#[[i, j, z] for i, j, z in zip(['a','b'],['c','d'],[1,2,3])]\n",
    "root.print_it()"
   ]
  },
  {
   "cell_type": "code",
   "execution_count": 5,
   "id": "346457b6",
   "metadata": {},
   "outputs": [
    {
     "name": "stdout",
     "output_type": "stream",
     "text": [
      "root\n",
      "├── 000\n",
      "│   ├── 000\n",
      "│   ╰── 001\n",
      "├── 001\n",
      "│   ├── 000\n",
      "│   ╰── 001\n",
      "├── 002\n",
      "│   ├── 000\n",
      "│   ╰── 001\n",
      "╰── 003\n",
      "    ├── 000\n",
      "    ╰── 001\n"
     ]
    }
   ],
   "source": [
    "#second generation\n",
    "for node in root.leaves:\n",
    "    node.children=[NodeJob(name=f\"{child:03}\",\n",
    "                           parent=node,\n",
    "                           path = f\"{node.path}/{child:03}\",\n",
    "                           template_path = root.path+'/../templates/multiply_it',\n",
    "                           submit_command = f'python run.py',\n",
    "                           dictionary={'parent':f'{node.path}',\n",
    "                                       'c': float(c[child]),\n",
    "                                       'log_file': f'{node.path}/{child:03}/log.yaml',\n",
    "                                      })\n",
    "                   for child in range(len(c))]\n",
    "root.print_it()"
   ]
  },
  {
   "cell_type": "code",
   "execution_count": 6,
   "id": "a88d1b31",
   "metadata": {},
   "outputs": [
    {
     "name": "stdout",
     "output_type": "stream",
     "text": [
      "root\n",
      "├── 000\n",
      "│   ├── 000\n",
      "│   │   ╰── 000\n",
      "│   ╰── 001\n",
      "│       ╰── 000\n",
      "├── 001\n",
      "│   ├── 000\n",
      "│   │   ╰── 000\n",
      "│   ╰── 001\n",
      "│       ╰── 000\n",
      "├── 002\n",
      "│   ├── 000\n",
      "│   │   ╰── 000\n",
      "│   ╰── 001\n",
      "│       ╰── 000\n",
      "╰── 003\n",
      "    ├── 000\n",
      "    │   ╰── 000\n",
      "    ╰── 001\n",
      "        ╰── 000\n"
     ]
    }
   ],
   "source": [
    "#third generation\n",
    "for node in root.leaves:\n",
    "    node.children=[NodeJob(name=f\"{child:03}\",\n",
    "                           parent=node, \n",
    "                           path = f\"{node.path}/{child:03}\",\n",
    "                           template_path = root.path+'/../templates/square_root_it',\n",
    "                           submit_command = f'python run.py',\n",
    "                           dictionary={'parent':f'{node.path}',\n",
    "                                       'log_file': f\"{node.path}/{child:03}/log.yaml\",\n",
    "                                       'test': {'is an example':4}\n",
    "                                      })\n",
    "                           for child in range(1)]\n",
    "root.print_it()"
   ]
  },
  {
   "cell_type": "code",
   "execution_count": 7,
   "id": "b7e9a224",
   "metadata": {},
   "outputs": [],
   "source": [
    "# we can also modify the submit command\n",
    "if False:\n",
    "for i, node in enumerate(root.leaves):\n",
    "    if i>3:\n",
    "        print(i)\n",
    "        node.submit_command = f'condor_submit run.sub -batch-name square_root'"
   ]
  },
  {
   "cell_type": "code",
   "execution_count": 8,
   "id": "4e0373c0",
   "metadata": {},
   "outputs": [
    {
     "data": {
      "text/plain": [
       "'python run.py'"
      ]
     },
     "execution_count": 8,
     "metadata": {},
     "output_type": "execute_result"
    }
   ],
   "source": [
    "# we can inspect the data structure\n",
    "root.children[3].children[1].children[0].submit_command"
   ]
  },
  {
   "cell_type": "code",
   "execution_count": 9,
   "id": "16e2e0b7",
   "metadata": {},
   "outputs": [],
   "source": [
    "root.to_yaml()"
   ]
  },
  {
   "cell_type": "code",
   "execution_count": 10,
   "id": "ebffa95a",
   "metadata": {},
   "outputs": [
    {
     "data": {
      "text/plain": [
       "[<tree_maker.NodeJob.NodeJob at 0x7f4a12257290>,\n",
       " <tree_maker.NodeJob.NodeJob at 0x7f4a12257310>,\n",
       " <tree_maker.NodeJob.NodeJob at 0x7f4a12257390>,\n",
       " <tree_maker.NodeJob.NodeJob at 0x7f4a12257410>,\n",
       " <tree_maker.NodeJob.NodeJob at 0x7f4a12257490>,\n",
       " <tree_maker.NodeJob.NodeJob at 0x7f4a12257510>,\n",
       " <tree_maker.NodeJob.NodeJob at 0x7f4a12257590>,\n",
       " <tree_maker.NodeJob.NodeJob at 0x7f4a12257610>]"
      ]
     },
     "execution_count": 10,
     "metadata": {},
     "output_type": "execute_result"
    }
   ],
   "source": [
    "# important concept of generation\n",
    "root.generation(2)"
   ]
  },
  {
   "cell_type": "code",
   "execution_count": 25,
   "id": "1dc15a4f",
   "metadata": {},
   "outputs": [],
   "source": [
    "# We map the pythonic tree in a >folder< tree\n",
    "\n",
    "root.clean_log()\n",
    "root.rm_children_folders()\n",
    "for depth in range(root.height):\n",
    "    [x.clone_children() for x in root.generation(depth)]\n",
    "\n",
    "root.tag_as('cloned')"
   ]
  },
  {
   "cell_type": "code",
   "execution_count": 12,
   "id": "686da9ab",
   "metadata": {},
   "outputs": [],
   "source": [
    "root.tag_as('launched')\n",
    "for node in root.generation(1):\n",
    "    node.clean_log()\n",
    "    \n",
    "    node.tag_as('mutated')\n",
    "    node.mutate() \n",
    "    \n",
    "    node.tag_as('submitted')\n",
    "    node.submit()"
   ]
  },
  {
   "cell_type": "code",
   "execution_count": 13,
   "id": "9d9db8e5",
   "metadata": {},
   "outputs": [],
   "source": [
    "def cleanlog_mutate_submit(self):\n",
    "    self.clean_log()\n",
    "    \n",
    "    self.tag_as('mutated')\n",
    "    self.mutate() \n",
    "    \n",
    "    self.tag_as('submitted')\n",
    "    self.submit()\n",
    "\n",
    "NodeJob.cleanlog_mutate_submit=cleanlog_mutate_submit"
   ]
  },
  {
   "cell_type": "code",
   "execution_count": 14,
   "id": "93e71fc5",
   "metadata": {},
   "outputs": [],
   "source": [
    "for node in root.generation(2):\n",
    "    node.cleanlog_mutate_submit()"
   ]
  },
  {
   "cell_type": "code",
   "execution_count": 15,
   "id": "230e71ee",
   "metadata": {},
   "outputs": [],
   "source": [
    "for node in root.generation(3):\n",
    "    node.cleanlog_mutate_submit()"
   ]
  },
  {
   "cell_type": "code",
   "execution_count": 16,
   "id": "78d67569",
   "metadata": {},
   "outputs": [],
   "source": [
    "# check if all root descendants are completed \n",
    "if all([descendant.has_been('completed') for descendant in root.descendants]):\n",
    "    root.tag_as('completed')"
   ]
  },
  {
   "cell_type": "code",
   "execution_count": 17,
   "id": "1db375fa",
   "metadata": {},
   "outputs": [],
   "source": [
    "# retrieve the output\n",
    "my_list=[]\n",
    "for node in root.leaves:\n",
    "    output = tree_maker.from_yaml(node.path+'/output.yaml')\n",
    "    my_list.append(output['result'])"
   ]
  },
  {
   "cell_type": "code",
   "execution_count": 18,
   "id": "03bd9fee",
   "metadata": {},
   "outputs": [],
   "source": [
    "# sanity check\n",
    "assert any(np.array(sorted(my_list))-np.array(my_list_original))==0"
   ]
  },
  {
   "cell_type": "code",
   "execution_count": 19,
   "id": "1c4e1436",
   "metadata": {},
   "outputs": [],
   "source": [
    "root=tree_maker.tree_from_yaml(f'/home/jovyan/local_host_home/CERNBox/2021/tree_maker/examples/001_example/study_000/tree.yaml')"
   ]
  },
  {
   "cell_type": "code",
   "execution_count": 20,
   "id": "8a89e5f6",
   "metadata": {},
   "outputs": [
    {
     "name": "stdout",
     "output_type": "stream",
     "text": [
      "/home/jovyan/local_host_home/CERNBox/2021/tree_maker/examples/001_example/study_000/000/000/000\n",
      "/home/jovyan/local_host_home/CERNBox/2021/tree_maker/examples/001_example/study_000/000/001/000\n",
      "/home/jovyan/local_host_home/CERNBox/2021/tree_maker/examples/001_example/study_000/001/000/000\n",
      "/home/jovyan/local_host_home/CERNBox/2021/tree_maker/examples/001_example/study_000/001/001/000\n",
      "/home/jovyan/local_host_home/CERNBox/2021/tree_maker/examples/001_example/study_000/002/000/000\n",
      "/home/jovyan/local_host_home/CERNBox/2021/tree_maker/examples/001_example/study_000/002/001/000\n",
      "/home/jovyan/local_host_home/CERNBox/2021/tree_maker/examples/001_example/study_000/003/000/000\n",
      "/home/jovyan/local_host_home/CERNBox/2021/tree_maker/examples/001_example/study_000/003/001/000\n"
     ]
    }
   ],
   "source": [
    "for node in root.find(filter_=\n",
    "                      lambda node: node.is_leaf and \n",
    "                                   node.has_been('completed')):\n",
    "    print(node.path)"
   ]
  },
  {
   "cell_type": "code",
   "execution_count": 22,
   "id": "461b8fb9",
   "metadata": {},
   "outputs": [
    {
     "name": "stdout",
     "output_type": "stream",
     "text": [
      "/home/jovyan/local_host_home/CERNBox/2021/tree_maker/examples/001_example/study_000/000/000/000\n",
      "0.22973667009077783\n",
      "\n",
      "/home/jovyan/local_host_home/CERNBox/2021/tree_maker/examples/001_example/study_000/000/001/000\n",
      "0.2055935932288798\n",
      "\n",
      "/home/jovyan/local_host_home/CERNBox/2021/tree_maker/examples/001_example/study_000/002/000/000\n",
      "0.22105104624872\n",
      "\n",
      "/home/jovyan/local_host_home/CERNBox/2021/tree_maker/examples/001_example/study_000/002/001/000\n",
      "0.19782074349436635\n",
      "\n",
      "/home/jovyan/local_host_home/CERNBox/2021/tree_maker/examples/001_example/study_000/003/000/000\n",
      "0.2646190341828162\n",
      "\n",
      "/home/jovyan/local_host_home/CERNBox/2021/tree_maker/examples/001_example/study_000/003/001/000\n",
      "0.23681016205599148\n",
      "\n"
     ]
    }
   ],
   "source": [
    "def my_test(node):\n",
    "    output = tree_maker.from_yaml(node.path+'/output.yaml')\n",
    "    return output['result']<.3\n",
    "\n",
    "\n",
    "for node in root.find(filter_=lambda node: node.is_leaf and \n",
    "                                           node.has_been('completed') and \n",
    "                                           my_test(node)):\n",
    "    print(node.path)\n",
    "    output = tree_maker.from_yaml(node.path+'/output.yaml')\n",
    "    print(f'{output[\"result\"]}'+'\\n')\n",
    "    "
   ]
  },
  {
   "cell_type": "code",
   "execution_count": null,
   "id": "7c2971ee",
   "metadata": {},
   "outputs": [],
   "source": []
  }
 ],
 "metadata": {
  "kernelspec": {
   "display_name": "Python 3",
   "language": "python",
   "name": "python3"
  },
  "language_info": {
   "codemirror_mode": {
    "name": "ipython",
    "version": 3
   },
   "file_extension": ".py",
   "mimetype": "text/x-python",
   "name": "python",
   "nbconvert_exporter": "python",
   "pygments_lexer": "ipython3",
   "version": "3.7.10"
  }
 },
 "nbformat": 4,
 "nbformat_minor": 5
}
