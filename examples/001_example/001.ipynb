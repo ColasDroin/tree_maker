{
 "cells": [
  {
   "cell_type": "markdown",
   "id": "45316597",
   "metadata": {},
   "source": [
    "Let aussume that we need to make this computation\n",
    "\n",
    "$\\sqrt{|(a+b)\\times c|}$\n",
    "\n",
    "and we want to compute the standard deviation of the result assuming that a, b and c are normal distributed independent variables. Clearly the problem is quite naive but we want to address is as if we will need a cluster to solve it. \n",
    "\n",
    "We can partition the problem in a three conscutive operations\n",
    "1. A sum: $(a+b)$\n",
    "2. A multiplication of the result 1 with c: $(a+b)\\times c$\n",
    "3. A sqrt of the result of 2: $\\sqrt{|(a+b)\\times c|}$"
   ]
  },
  {
   "cell_type": "code",
   "execution_count": 1,
   "id": "3bfaac3b",
   "metadata": {},
   "outputs": [],
   "source": [
    "import tree_maker\n",
    "from tree_maker import NodeJob"
   ]
  },
  {
   "cell_type": "code",
   "execution_count": 2,
   "id": "e0d58d6a",
   "metadata": {},
   "outputs": [],
   "source": [
    "import numpy as np\n",
    "a=np.random.randn(4)\n",
    "b=np.random.randn(4)\n",
    "c=np.random.randn(2)\n",
    "\n",
    "my_list_original=[]\n",
    "for ii in c:\n",
    "    my_list_original+=list(np.sqrt(np.abs((a+b)*ii)))\n",
    "my_list_original=sorted(my_list_original)"
   ]
  },
  {
   "cell_type": "code",
   "execution_count": 3,
   "id": "843e608f",
   "metadata": {},
   "outputs": [],
   "source": [
    "#root\n",
    "root = NodeJob(name='root', parent=None)\n",
    "# to be modified accordingly\n",
    "root.path = '/home/jovyan/local_host_home/CERNBox/2021/tree_maker/examples/001_example/study_000'\n",
    "\n",
    "#first generation\n",
    "for node in root.leaves:\n",
    "    node.children=[NodeJob(name=f\"{child:03}\",\n",
    "                           parent=node,\n",
    "                           path = f\"{node.path}/{child:03}\",\n",
    "                           template_path = root.path+'/../templates/sum_it',\n",
    "                           run_command = f'python run.py',\n",
    "                           dictionary={'a':float(a[child]), \n",
    "                                       'b':float(b[child]),\n",
    "                                       'log_file': f\"{node.path}/{child:03}/log.yaml\"\n",
    "                                      })\n",
    "                   for child in range(len(a))]\n",
    "\n",
    "#second generation\n",
    "for node in root.leaves:\n",
    "    node.children=[NodeJob(name=f\"{child:03}\",\n",
    "                           parent=node,\n",
    "                           path = f\"{node.path}/{child:03}\",\n",
    "                           template_path = root.path+'/../templates/multiply_it',\n",
    "                           run_command = f'python run.py',\n",
    "                           dictionary={'c':float(c[child]),\n",
    "                                       'log_file': f\"{node.path}/{child:03}/log.yaml\",\n",
    "                                      })\n",
    "                   for child in range(len(c))]\n",
    "    \n",
    "#third generation\n",
    "for node in root.leaves:\n",
    "    node.children=[NodeJob(name=f\"{child:03}\",\n",
    "                           parent=node, \n",
    "                           path = f\"{node.path}/{child:03}\",\n",
    "                           template_path = root.path+'/../templates/square_root_it',\n",
    "                           run_command = f'python run.py',\n",
    "                           dictionary={'a':float(c[child]),\n",
    "                                       'log_file': f\"{node.path}/{child:03}/log.yaml\",\n",
    "                                       'test': {'guido':4}\n",
    "                                      })\n",
    "                           for child in range(1)]\n",
    "    \n",
    "root.to_yaml()"
   ]
  },
  {
   "cell_type": "code",
   "execution_count": 4,
   "id": "3c31a7e1",
   "metadata": {},
   "outputs": [],
   "source": [
    "if False:\n",
    "    for i, node in enumerate(root.leaves):\n",
    "        if i>3:\n",
    "            print(i)\n",
    "            node.run_command = f'condor_submit run.sub -batch-name square_root'"
   ]
  },
  {
   "cell_type": "code",
   "execution_count": 5,
   "id": "885eb0e5",
   "metadata": {},
   "outputs": [
    {
     "name": "stdout",
     "output_type": "stream",
     "text": [
      "root\n",
      "├── 000\n",
      "│   ├── 000\n",
      "│   │   ╰── 000\n",
      "│   ╰── 001\n",
      "│       ╰── 000\n",
      "├── 001\n",
      "│   ├── 000\n",
      "│   │   ╰── 000\n",
      "│   ╰── 001\n",
      "│       ╰── 000\n",
      "├── 002\n",
      "│   ├── 000\n",
      "│   │   ╰── 000\n",
      "│   ╰── 001\n",
      "│       ╰── 000\n",
      "╰── 003\n",
      "    ├── 000\n",
      "    │   ╰── 000\n",
      "    ╰── 001\n",
      "        ╰── 000\n"
     ]
    }
   ],
   "source": [
    "root.print_it()"
   ]
  },
  {
   "cell_type": "code",
   "execution_count": 6,
   "id": "255fa111",
   "metadata": {},
   "outputs": [],
   "source": [
    "# save the tree\n",
    "root.to_yaml()"
   ]
  },
  {
   "cell_type": "code",
   "execution_count": 7,
   "id": "bfc80590",
   "metadata": {},
   "outputs": [
    {
     "data": {
      "text/plain": [
       "'/home/jovyan/local_host_home/CERNBox/2021/tree_maker/examples/001_example/study_000'"
      ]
     },
     "execution_count": 7,
     "metadata": {},
     "output_type": "execute_result"
    }
   ],
   "source": [
    "root.path"
   ]
  },
  {
   "cell_type": "code",
   "execution_count": 8,
   "id": "486b51d6",
   "metadata": {},
   "outputs": [
    {
     "name": "stdout",
     "output_type": "stream",
     "text": [
      "root\n",
      "├── 000\n",
      "│   ├── 000\n",
      "│   │   ╰── 000\n",
      "│   ╰── 001\n",
      "│       ╰── 000\n",
      "├── 001\n",
      "│   ├── 000\n",
      "│   │   ╰── 000\n",
      "│   ╰── 001\n",
      "│       ╰── 000\n",
      "├── 002\n",
      "│   ├── 000\n",
      "│   │   ╰── 000\n",
      "│   ╰── 001\n",
      "│       ╰── 000\n",
      "╰── 003\n",
      "    ├── 000\n",
      "    │   ╰── 000\n",
      "    ╰── 001\n",
      "        ╰── 000\n"
     ]
    }
   ],
   "source": [
    "# Load the tree from a yaml\n",
    "root=tree_maker.tree_from_yaml(f'{root.path}/tree.yaml')\n",
    "root.print_it()"
   ]
  },
  {
   "cell_type": "code",
   "execution_count": 9,
   "id": "757c1a29",
   "metadata": {},
   "outputs": [
    {
     "data": {
      "text/plain": [
       "'python run.py'"
      ]
     },
     "execution_count": 9,
     "metadata": {},
     "output_type": "execute_result"
    }
   ],
   "source": [
    "root.children[3].children[1].children[0].run_command"
   ]
  },
  {
   "cell_type": "code",
   "execution_count": 10,
   "id": "e6f2c2df",
   "metadata": {},
   "outputs": [],
   "source": [
    "# STEP 1 cloning\n",
    "root.rm_children()\n",
    "[x.clone_children() for x in root.generation(0)]\n",
    "[x.clone_children() for x in root.generation(1)]\n",
    "[x.clone_children() for x in root.generation(2)];"
   ]
  },
  {
   "cell_type": "code",
   "execution_count": 11,
   "id": "f7a0c9a5",
   "metadata": {},
   "outputs": [],
   "source": [
    "\n",
    "#def run_HTCondor(self):\n",
    "#    import subprocess\n",
    "#    print('Launching on HTCondor')\n",
    "#    subprocess.run(f'cd {self.path}; condor_submit run.sub;')\n",
    "#NodeJob.run_HTCondor=run_HTCondor\n",
    "\n",
    "for node in root.generation(1):\n",
    "    node.mutate()\n",
    "    node.run()"
   ]
  },
  {
   "cell_type": "code",
   "execution_count": 12,
   "id": "3f4eeec6",
   "metadata": {},
   "outputs": [],
   "source": [
    "for node in root.generation(2):\n",
    "    parent_output = tree_maker.from_yaml(node.parent.path+'/output.yaml')\n",
    "    node.dictionary['sum_a_b']=parent_output['result']\n",
    "    node.mutate()\n",
    "    node.run()"
   ]
  },
  {
   "cell_type": "code",
   "execution_count": 13,
   "id": "0a4b7209",
   "metadata": {},
   "outputs": [],
   "source": [
    "for node in root.generation(3):\n",
    "    parent_output = tree_maker.from_yaml(node.parent.path+'/output.yaml')\n",
    "    node.dictionary['a']=parent_output['result']\n",
    "    node.mutate()\n",
    "    node.run()"
   ]
  },
  {
   "cell_type": "code",
   "execution_count": 14,
   "id": "0a4765c0",
   "metadata": {},
   "outputs": [],
   "source": [
    "my_list=[]\n",
    "for node in root.generation(3):\n",
    "    output = tree_maker.from_yaml(node.path+'/output.yaml')\n",
    "    my_list.append(output['result'])"
   ]
  },
  {
   "cell_type": "code",
   "execution_count": 15,
   "id": "5ae7de91",
   "metadata": {},
   "outputs": [],
   "source": [
    "assert any(np.array(sorted(my_list))-np.array(my_list_original))==0"
   ]
  },
  {
   "cell_type": "code",
   "execution_count": null,
   "id": "fcae00c7",
   "metadata": {},
   "outputs": [],
   "source": []
  }
 ],
 "metadata": {
  "kernelspec": {
   "display_name": "Python 3",
   "language": "python",
   "name": "python3"
  },
  "language_info": {
   "codemirror_mode": {
    "name": "ipython",
    "version": 3
   },
   "file_extension": ".py",
   "mimetype": "text/x-python",
   "name": "python",
   "nbconvert_exporter": "python",
   "pygments_lexer": "ipython3",
   "version": "3.7.10"
  }
 },
 "nbformat": 4,
 "nbformat_minor": 5
}
