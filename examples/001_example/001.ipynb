{
 "cells": [
  {
   "cell_type": "markdown",
   "id": "60959af2",
   "metadata": {},
   "source": [
    "Let aussume that we need to make this computation\n",
    "\n",
    "$\\sqrt{|(a+b)\\times c|}$\n",
    "\n",
    "and we want to compute the standard deviation of the result assuming that a, b and c are normal distributed independent variables. Clearly the problem is quite naive but we want to address is as if we will need a cluster to solve it. \n",
    "\n",
    "We can partition the problem in a three conscutive operations\n",
    "1. A sum: $(a+b)$\n",
    "2. A multiplication of the result 1 with c: $(a+b)\\times c$\n",
    "3. A sqrt of the result of 2: $\\sqrt{|(a+b)\\times c|}$"
   ]
  },
  {
   "cell_type": "code",
   "execution_count": 1,
   "id": "f636d1e8",
   "metadata": {},
   "outputs": [],
   "source": [
    "import tree_maker\n",
    "from tree_maker import NodeJob"
   ]
  },
  {
   "cell_type": "code",
   "execution_count": 2,
   "id": "195c2674",
   "metadata": {},
   "outputs": [],
   "source": [
    "import numpy as np\n",
    "a=np.random.randn(4)\n",
    "b=np.random.randn(4)\n",
    "c=np.random.randn(2)\n",
    "\n",
    "my_list_original=[]\n",
    "for ii in c:\n",
    "    my_list_original+=list(np.sqrt(np.abs((a+b)*ii)))\n",
    "my_list_original=sorted(my_list_original)"
   ]
  },
  {
   "cell_type": "code",
   "execution_count": 32,
   "id": "3d13c4e0",
   "metadata": {},
   "outputs": [],
   "source": [
    "#root\n",
    "root = NodeJob(name='root', parent=None)\n",
    "# to be modified accordingly\n",
    "root.path = '/home/jovyan/local_host_home/CERNBox/2021/tree_maker/examples/001_example'\n",
    "\n",
    "#first generation\n",
    "for node in root.leaves:\n",
    "    node.children=[NodeJob(name=f\"{child:03}\",\n",
    "                           parent=node,\n",
    "                           path = f\"{node.path}/{child:03}\",\n",
    "                           template_path = root.path+'/templates/sum_it',\n",
    "                           run_command = f'python run.py',\n",
    "                           dictionary={'a':float(a[child]), \n",
    "                                       'b':float(b[child])})\n",
    "                   for child in range(len(a))]\n",
    "\n",
    "#second generation\n",
    "for node in root.leaves:\n",
    "    node.children=[NodeJob(name=f\"{child:03}\",\n",
    "                           parent=node,\n",
    "                           path = f\"{node.path}/{child:03}\",\n",
    "                           template_path = root.path+'/templates/multiply_it',\n",
    "                           run_command = f'python run.py',\n",
    "                           dictionary={'c':float(c[child])})\n",
    "                   for child in range(len(c))]\n",
    "    \n",
    "#third generation\n",
    "for node in root.leaves:\n",
    "    node.children=[NodeJob(name=f\"{child:03}\",\n",
    "                           parent=node, \n",
    "                           path = f\"{node.path}/{child:03}\",\n",
    "                           template_path = root.path+'/templates/square_root_it',\n",
    "                           run_command = f'python run.py',\n",
    "                           dictionary={'a':float(c[child])})\n",
    "                           for child in range(1)]"
   ]
  },
  {
   "cell_type": "code",
   "execution_count": 33,
   "id": "bcdc9310",
   "metadata": {},
   "outputs": [],
   "source": [
    "if False:\n",
    "    for i, node in enumerate(root.leaves):\n",
    "        if i>3:\n",
    "            print(i)\n",
    "            node.run_command = f'condor_submit run.sub -batch-name square_root'"
   ]
  },
  {
   "cell_type": "code",
   "execution_count": 34,
   "id": "2183b031",
   "metadata": {},
   "outputs": [
    {
     "name": "stdout",
     "output_type": "stream",
     "text": [
      "root\n",
      "├── 000\n",
      "│   ├── 000\n",
      "│   │   ╰── 000\n",
      "│   ╰── 001\n",
      "│       ╰── 000\n",
      "├── 001\n",
      "│   ├── 000\n",
      "│   │   ╰── 000\n",
      "│   ╰── 001\n",
      "│       ╰── 000\n",
      "├── 002\n",
      "│   ├── 000\n",
      "│   │   ╰── 000\n",
      "│   ╰── 001\n",
      "│       ╰── 000\n",
      "╰── 003\n",
      "    ├── 000\n",
      "    │   ╰── 000\n",
      "    ╰── 001\n",
      "        ╰── 000\n"
     ]
    }
   ],
   "source": [
    "root.print_it()"
   ]
  },
  {
   "cell_type": "code",
   "execution_count": 35,
   "id": "06a183bb",
   "metadata": {},
   "outputs": [],
   "source": [
    "# save the tree\n",
    "root.to_yaml()"
   ]
  },
  {
   "cell_type": "code",
   "execution_count": 36,
   "id": "f7872237",
   "metadata": {},
   "outputs": [
    {
     "name": "stdout",
     "output_type": "stream",
     "text": [
      "root\n",
      "├── 000\n",
      "│   ├── 000\n",
      "│   │   ╰── 000\n",
      "│   ╰── 001\n",
      "│       ╰── 000\n",
      "├── 001\n",
      "│   ├── 000\n",
      "│   │   ╰── 000\n",
      "│   ╰── 001\n",
      "│       ╰── 000\n",
      "├── 002\n",
      "│   ├── 000\n",
      "│   │   ╰── 000\n",
      "│   ╰── 001\n",
      "│       ╰── 000\n",
      "╰── 003\n",
      "    ├── 000\n",
      "    │   ╰── 000\n",
      "    ╰── 001\n",
      "        ╰── 000\n"
     ]
    }
   ],
   "source": [
    "# Load the tree from a yaml\n",
    "root=tree_maker.tree_from_yaml('./node.yaml')\n",
    "root.print_it()"
   ]
  },
  {
   "cell_type": "code",
   "execution_count": 37,
   "id": "f7b85608",
   "metadata": {},
   "outputs": [
    {
     "data": {
      "text/plain": [
       "'python run.py'"
      ]
     },
     "execution_count": 37,
     "metadata": {},
     "output_type": "execute_result"
    }
   ],
   "source": [
    "root.children[0].run_command"
   ]
  },
  {
   "cell_type": "code",
   "execution_count": 38,
   "id": "6e2f3373",
   "metadata": {},
   "outputs": [],
   "source": [
    "# STEP 1 cloning\n",
    "root.rm_children()\n",
    "[x.clone_children() for x in root.generation(0)]\n",
    "[x.clone_children() for x in root.generation(1)]\n",
    "[x.clone_children() for x in root.generation(2)];"
   ]
  },
  {
   "cell_type": "code",
   "execution_count": 39,
   "id": "b406c5ea",
   "metadata": {},
   "outputs": [],
   "source": [
    "\n",
    "#def run_HTCondor(self):\n",
    "#    import subprocess\n",
    "#    print('Launching on HTCondor')\n",
    "#    subprocess.run(f'cd {self.path}; condor_submit run.sub;')\n",
    "#NodeJob.run_HTCondor=run_HTCondor\n",
    "\n",
    "for node in root.generation(1):\n",
    "    node.mutate()\n",
    "    node.run()"
   ]
  },
  {
   "cell_type": "code",
   "execution_count": 10,
   "id": "6480495d",
   "metadata": {},
   "outputs": [],
   "source": [
    "for node in root.generation(2):\n",
    "    parent_output = tree_maker.from_yaml(node.parent.path+'/output.yaml')\n",
    "    node.dictionary['sum_a_b']=parent_output['result']\n",
    "    node.mutate()\n",
    "    node.run()"
   ]
  },
  {
   "cell_type": "code",
   "execution_count": 11,
   "id": "d3833c44",
   "metadata": {},
   "outputs": [],
   "source": [
    "for node in root.generation(3):\n",
    "    parent_output = tree_maker.from_yaml(node.parent.path+'/output.yaml')\n",
    "    node.dictionary['a']=parent_output['result']\n",
    "    node.mutate()\n",
    "    node.run()"
   ]
  },
  {
   "cell_type": "code",
   "execution_count": 12,
   "id": "eb4d3d14",
   "metadata": {},
   "outputs": [],
   "source": [
    "my_list=[]\n",
    "for node in root.generation(3):\n",
    "    output = tree_maker.from_yaml(node.path+'/output.yaml')\n",
    "    my_list.append(output['result'])"
   ]
  },
  {
   "cell_type": "code",
   "execution_count": 21,
   "id": "1c72f31e",
   "metadata": {},
   "outputs": [],
   "source": [
    "assert any(np.array(sorted(my_list))-np.array(my_list_original))==0"
   ]
  },
  {
   "cell_type": "code",
   "execution_count": null,
   "id": "51f3cab2",
   "metadata": {},
   "outputs": [],
   "source": []
  }
 ],
 "metadata": {
  "kernelspec": {
   "display_name": "Python 3",
   "language": "python",
   "name": "python3"
  },
  "language_info": {
   "codemirror_mode": {
    "name": "ipython",
    "version": 3
   },
   "file_extension": ".py",
   "mimetype": "text/x-python",
   "name": "python",
   "nbconvert_exporter": "python",
   "pygments_lexer": "ipython3",
   "version": "3.7.10"
  }
 },
 "nbformat": 4,
 "nbformat_minor": 5
}
