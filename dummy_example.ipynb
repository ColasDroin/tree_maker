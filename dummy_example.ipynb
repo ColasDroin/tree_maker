{
 "cells": [
  {
   "cell_type": "markdown",
   "id": "7fecd1ce",
   "metadata": {},
   "source": [
    "Let aussume that we need to make this computation\n",
    "\n",
    "$\\sqrt{(a+b)\\times c}$\n",
    "\n",
    "and we want to compute the standard deviation of the result assuming that a, b and c are normal distributed independent variables. Clearly the problem is quite naive but we want to address is as if we will need a cluster to solve it. \n",
    "\n",
    "We can partition the problem in a three conscutive operations\n",
    "1. A sum: $(a+b)$\n",
    "2. A multiplication of the result 1 with c: $(a+b)\\times c$\n",
    "3. A sqrt of the result of 2: $\\sqrt{(a+b)\\times c}$"
   ]
  },
  {
   "cell_type": "code",
   "execution_count": 1,
   "id": "4a890cc0",
   "metadata": {},
   "outputs": [],
   "source": [
    "import tree_maker\n",
    "from tree_maker import NodeJob"
   ]
  },
  {
   "cell_type": "code",
   "execution_count": 33,
   "id": "5e8dbde8",
   "metadata": {},
   "outputs": [],
   "source": [
    "import numpy as np\n",
    "a=np.random.randn(4)\n",
    "b=np.random.randn(4)\n",
    "c=np.random.randn(2)\n",
    "\n",
    "my_list_original=[]\n",
    "for ii in c:\n",
    "    my_list_original+=list(np.sqrt(np.abs((a+b)*ii)))\n",
    "my_list_original=sorted(my_list_original)"
   ]
  },
  {
   "cell_type": "code",
   "execution_count": 34,
   "id": "a27f16cc",
   "metadata": {},
   "outputs": [],
   "source": [
    "#root\n",
    "root = NodeJob(name='root', parent=None)\n",
    "root.path = '/home/jovyan/local_host_home/CERNBox/2021/make_tree'\n",
    "\n",
    "#first generation\n",
    "for node in root.leaves:\n",
    "    node.children=[NodeJob(name=f\"{child}\",\n",
    "                           parent=node,\n",
    "                           path = f\"{node.path}/{child}\",\n",
    "                           template_path = '/home/jovyan/local_host_home/CERNBox/2021/make_tree/templates/sum_it',\n",
    "                           dictionary={'a':float(a[child]), 'b':float(b[child])})\n",
    "                   for child in range(len(a))]\n",
    "\n",
    "#second generation\n",
    "for node in root.leaves:\n",
    "    node.children=[NodeJob(name=f\"{child}\",\n",
    "                           parent=node,\n",
    "                           path = f\"{node.path}/{child}\",\n",
    "                           template_path = '/home/jovyan/local_host_home/CERNBox/2021/make_tree/templates/multiply_it',\n",
    "                           dictionary={'c':float(c[child])})\n",
    "                   for child in range(len(c))]\n",
    "    \n",
    "#third generation\n",
    "for node in root.leaves:\n",
    "    node.children=[NodeJob(name=f\"{child}\",\n",
    "                           parent=node, \n",
    "                           path = f\"{node.path}/{child}\",\n",
    "                           template_path = '/home/jovyan/local_host_home/CERNBox/2021/make_tree/templates/square_root_it',\n",
    "                           dictionary={'a':float(c[child])})\n",
    "                           for child in range(1)]"
   ]
  },
  {
   "cell_type": "code",
   "execution_count": 35,
   "id": "f5a53c8e",
   "metadata": {},
   "outputs": [
    {
     "name": "stdout",
     "output_type": "stream",
     "text": [
      "root\n",
      "├── 0\n",
      "│   ├── 0\n",
      "│   │   ╰── 0\n",
      "│   ╰── 1\n",
      "│       ╰── 0\n",
      "├── 1\n",
      "│   ├── 0\n",
      "│   │   ╰── 0\n",
      "│   ╰── 1\n",
      "│       ╰── 0\n",
      "├── 2\n",
      "│   ├── 0\n",
      "│   │   ╰── 0\n",
      "│   ╰── 1\n",
      "│       ╰── 0\n",
      "╰── 3\n",
      "    ├── 0\n",
      "    │   ╰── 0\n",
      "    ╰── 1\n",
      "        ╰── 0\n"
     ]
    }
   ],
   "source": [
    "root.print_it()"
   ]
  },
  {
   "cell_type": "code",
   "execution_count": 36,
   "id": "0dd914a8",
   "metadata": {},
   "outputs": [],
   "source": [
    "#import numpy as np\n",
    "#root.path = '/home/jovyan/local_host_home/CERNBox/2021/make_tree'\n",
    "\n",
    "# sum\n",
    "#for ii, node in enumerate(root.generation(1)): \n",
    "#    node.path = node.parent.path + '/' + node.name\n",
    "#    node.template_path = '/home/jovyan/local_host_home/CERNBox/2021/make_tree/templates/sum_it'\n",
    "#    node.dictionary={'a':float(a[ii]), 'b': float(b[ii])}\n",
    "    \n",
    "# product\n",
    "#for ii, node in enumerate(root.generation(2)): \n",
    "#    node.path = node.parent.path + '/' + node.name\n",
    "#    node.template_path = '/home/jovyan/local_host_home/CERNBox/2021/make_tree/templates/multiply_it'\n",
    "\n",
    "# sqrt\n",
    "#for node in root.generation(3): \n",
    "#    node.path = node.parent.path + '/' + node.name\n",
    "#    node.template_path = '/home/jovyan/local_host_home/CERNBox/2021/make_tree/templates/square_root_it'\n",
    "#    node.dictionary={'a':float(0)}"
   ]
  },
  {
   "cell_type": "code",
   "execution_count": 37,
   "id": "34e16faf",
   "metadata": {},
   "outputs": [],
   "source": [
    "# save the tree\n",
    "root.to_yaml()"
   ]
  },
  {
   "cell_type": "code",
   "execution_count": 38,
   "id": "5d3f604d",
   "metadata": {},
   "outputs": [
    {
     "name": "stdout",
     "output_type": "stream",
     "text": [
      "root\n",
      "├── 0\n",
      "│   ├── 0\n",
      "│   │   ╰── 0\n",
      "│   ╰── 1\n",
      "│       ╰── 0\n",
      "├── 1\n",
      "│   ├── 0\n",
      "│   │   ╰── 0\n",
      "│   ╰── 1\n",
      "│       ╰── 0\n",
      "├── 2\n",
      "│   ├── 0\n",
      "│   │   ╰── 0\n",
      "│   ╰── 1\n",
      "│       ╰── 0\n",
      "╰── 3\n",
      "    ├── 0\n",
      "    │   ╰── 0\n",
      "    ╰── 1\n",
      "        ╰── 0\n"
     ]
    }
   ],
   "source": [
    "# Load the tree from a yaml\n",
    "root=tree_maker.tree_from_yaml('./node.yaml')\n",
    "root.print_it()"
   ]
  },
  {
   "cell_type": "code",
   "execution_count": 39,
   "id": "793f873f",
   "metadata": {},
   "outputs": [
    {
     "data": {
      "text/plain": [
       "{'a': -1.0938419614202788, 'b': -1.5964716114815558}"
      ]
     },
     "execution_count": 39,
     "metadata": {},
     "output_type": "execute_result"
    }
   ],
   "source": [
    "root.children[0].dictionary"
   ]
  },
  {
   "cell_type": "code",
   "execution_count": 40,
   "id": "b379a710",
   "metadata": {},
   "outputs": [],
   "source": [
    "# STEP 1 cloning\n",
    "root.rm_children()\n",
    "[x.clone_children() for x in root.generation(0)]\n",
    "[x.clone_children() for x in root.generation(1)]\n",
    "[x.clone_children() for x in root.generation(2)];"
   ]
  },
  {
   "cell_type": "code",
   "execution_count": 41,
   "id": "c09768b6",
   "metadata": {},
   "outputs": [],
   "source": [
    "for node in root.generation(1):\n",
    "    node.mutate()\n",
    "    node.run()"
   ]
  },
  {
   "cell_type": "code",
   "execution_count": 42,
   "id": "2945c097",
   "metadata": {},
   "outputs": [
    {
     "data": {
      "text/plain": [
       "ordereddict([('result', -2.6903135729018346)])"
      ]
     },
     "execution_count": 42,
     "metadata": {},
     "output_type": "execute_result"
    }
   ],
   "source": [
    "node=root.generation(2)[0]\n",
    "tree_maker.from_yaml(node.parent.path+'/output.yaml')"
   ]
  },
  {
   "cell_type": "code",
   "execution_count": 43,
   "id": "62a623b7",
   "metadata": {},
   "outputs": [],
   "source": [
    "for node in root.generation(2):\n",
    "    parent_output = tree_maker.from_yaml(node.parent.path+'/output.yaml')\n",
    "    node.dictionary['sum_a_b']=parent_output['result']\n",
    "    node.mutate()\n",
    "    node.run()"
   ]
  },
  {
   "cell_type": "code",
   "execution_count": 44,
   "id": "66c7bf2e",
   "metadata": {},
   "outputs": [],
   "source": [
    "for node in root.generation(3):\n",
    "    parent_output = tree_maker.from_yaml(node.parent.path+'/output.yaml')\n",
    "    node.dictionary['a']=parent_output['result']\n",
    "    node.mutate()\n",
    "    node.run()"
   ]
  },
  {
   "cell_type": "code",
   "execution_count": 45,
   "id": "4d9e0107",
   "metadata": {},
   "outputs": [],
   "source": [
    "my_list=[]\n",
    "for node in root.generation(3):\n",
    "    output = tree_maker.from_yaml(node.path+'/output.yaml')\n",
    "    my_list.append(output['result'])"
   ]
  },
  {
   "cell_type": "code",
   "execution_count": 47,
   "id": "73b40735",
   "metadata": {},
   "outputs": [
    {
     "data": {
      "text/plain": [
       "[0.12662002366830288,\n",
       " 0.223856033239695,\n",
       " 0.22765041897551555,\n",
       " 0.4024712543942659,\n",
       " 0.6746578231021625,\n",
       " 0.9135330843974122,\n",
       " 1.1927515072135049,\n",
       " 1.6150675586836207]"
      ]
     },
     "execution_count": 47,
     "metadata": {},
     "output_type": "execute_result"
    }
   ],
   "source": [
    "sorted(my_list)"
   ]
  },
  {
   "cell_type": "code",
   "execution_count": 48,
   "id": "5364348a",
   "metadata": {},
   "outputs": [
    {
     "data": {
      "text/plain": [
       "[0.12662002366830288,\n",
       " 0.223856033239695,\n",
       " 0.22765041897551555,\n",
       " 0.4024712543942659,\n",
       " 0.6746578231021625,\n",
       " 0.9135330843974122,\n",
       " 1.1927515072135049,\n",
       " 1.6150675586836207]"
      ]
     },
     "execution_count": 48,
     "metadata": {},
     "output_type": "execute_result"
    }
   ],
   "source": [
    "my_list_original"
   ]
  },
  {
   "cell_type": "code",
   "execution_count": null,
   "id": "8fcf1c2e",
   "metadata": {},
   "outputs": [],
   "source": []
  }
 ],
 "metadata": {
  "kernelspec": {
   "display_name": "Python 3",
   "language": "python",
   "name": "python3"
  },
  "language_info": {
   "codemirror_mode": {
    "name": "ipython",
    "version": 3
   },
   "file_extension": ".py",
   "mimetype": "text/x-python",
   "name": "python",
   "nbconvert_exporter": "python",
   "pygments_lexer": "ipython3",
   "version": "3.7.10"
  }
 },
 "nbformat": 4,
 "nbformat_minor": 5
}
